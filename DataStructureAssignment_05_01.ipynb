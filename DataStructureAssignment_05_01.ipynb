{
 "cells": [
  {
   "cell_type": "markdown",
   "id": "4892f684-d58b-4f13-a1e4-4b9435987880",
   "metadata": {},
   "source": [
    "### Write a program to accept five integers from the user , store them in a list . Display these integers and also display their sum"
   ]
  },
  {
   "cell_type": "markdown",
   "id": "8309e98e-072f-4ce6-8370-454eba8ec1bb",
   "metadata": {},
   "source": [
    "#### One way"
   ]
  },
  {
   "cell_type": "code",
   "execution_count": 20,
   "id": "a03aa371-49d6-496b-bdf8-7d5bdb98baac",
   "metadata": {},
   "outputs": [
    {
     "name": "stdin",
     "output_type": "stream",
     "text": [
      "Enter any five integers 2 2 2 2 2\n"
     ]
    },
    {
     "name": "stdout",
     "output_type": "stream",
     "text": [
      "Entered Integer value is 2\n",
      "Entered Integer value is 2\n",
      "Entered Integer value is 2\n",
      "Entered Integer value is 2\n",
      "Entered Integer value is 2\n",
      "Sum of integer values is 10\n"
     ]
    }
   ],
   "source": [
    "mylist= list(input('Enter any five integers'))\n",
    "\n",
    "summ=0\n",
    "for i in mylist:\n",
    "    if(i==' '):\n",
    "        pass\n",
    "    else:\n",
    "        print('Entered Integer value is', i)\n",
    "        summ=summ+int(i)\n",
    "print('Sum of integer values is', summ)    "
   ]
  },
  {
   "cell_type": "markdown",
   "id": "1098f46f-2ae5-445c-9166-dfb782aaed34",
   "metadata": {},
   "source": [
    "#### Second way\n"
   ]
  },
  {
   "cell_type": "code",
   "execution_count": 33,
   "id": "68cd8f84-bdbd-4d07-b5ff-83c1d8df2914",
   "metadata": {},
   "outputs": [
    {
     "name": "stdin",
     "output_type": "stream",
     "text": [
      "Enter the integer value 1\n",
      "Enter the integer value 2\n",
      "Enter the integer value 1\n",
      "Enter the integer value 2\n",
      "Enter the integer value 1\n"
     ]
    },
    {
     "name": "stdout",
     "output_type": "stream",
     "text": [
      "\n",
      "Entered Integer value is 1\n",
      "Entered Integer value is 2\n",
      "Entered Integer value is 1\n",
      "Entered Integer value is 2\n",
      "Entered Integer value is 1\n",
      "\n",
      "Sum of integer values is 7\n"
     ]
    }
   ],
   "source": [
    "mylist2= []\n",
    "mysum=0\n",
    "i=1\n",
    "while i<=5:\n",
    "    a=int(input('Enter the integer value'))\n",
    "    mylist2.append(a)   \n",
    "    mysum=mysum+a\n",
    "    i=i+1   \n",
    "print()    \n",
    "for val in mylist2:\n",
    "    print('Entered Integer value is', val)\n",
    "print('\\nSum of integer values is', mysum)     "
   ]
  },
  {
   "cell_type": "markdown",
   "id": "25bc2b6d-2efa-4534-91fd-5bb3d281d96a",
   "metadata": {},
   "source": [
    "### Write a program to accept 5 unique integers from the user. Make sure if the integer being entered is already present in the list your code displays the message “Item already present” and ask the user to reenter the integer."
   ]
  },
  {
   "cell_type": "markdown",
   "id": "70f7ad85-c482-40db-af6f-231a422dfcc2",
   "metadata": {},
   "source": [
    "#### One way"
   ]
  },
  {
   "cell_type": "code",
   "execution_count": 9,
   "id": "2d445cb8-02dc-4bbf-883f-29f88235f432",
   "metadata": {},
   "outputs": [
    {
     "name": "stdin",
     "output_type": "stream",
     "text": [
      "Enter the integer value 1\n",
      "Enter the integer value 1\n",
      "Enter the integer value 2\n",
      "Enter the integer value 1\n"
     ]
    },
    {
     "name": "stdout",
     "output_type": "stream",
     "text": [
      "This integer value already present. Please enter the unique value\n"
     ]
    },
    {
     "name": "stdin",
     "output_type": "stream",
     "text": [
      "Enter the integer value 2\n",
      "Enter the integer value 3\n"
     ]
    },
    {
     "name": "stdout",
     "output_type": "stream",
     "text": [
      "\n",
      "Entered Integer value is 1\n",
      "Entered Integer value is 1\n",
      "Entered Integer value is 2\n",
      "Entered Integer value is 2\n",
      "Entered Integer value is 3\n"
     ]
    }
   ],
   "source": [
    "intlist = []\n",
    "i=1\n",
    "while i<=5:\n",
    "    num=int(input('Enter the integer value'))\n",
    "    if(intlist.count(num)> 0):\n",
    "        print('This integer value already present. Please enter the unique value')\n",
    "    else:\n",
    "        intlist.append(num)\n",
    "        i=i+1\n",
    "print() \n",
    "for val in intlist:\n",
    "    print('Entered Integer value is', val)"
   ]
  },
  {
   "cell_type": "markdown",
   "id": "b98de213-5a4f-4bf8-b4a7-bb51a44ae6d1",
   "metadata": {},
   "source": [
    "#### Second way"
   ]
  },
  {
   "cell_type": "code",
   "execution_count": 14,
   "id": "7a71a2a5-52ac-44b7-bae8-bc2b6b3e932e",
   "metadata": {},
   "outputs": [
    {
     "name": "stdin",
     "output_type": "stream",
     "text": [
      "Enter any five integers 1 1 2 3 4\n"
     ]
    },
    {
     "name": "stdout",
     "output_type": "stream",
     "text": [
      "1 is already present.\n"
     ]
    },
    {
     "name": "stdin",
     "output_type": "stream",
     "text": [
      "Please enter single unique value 5\n"
     ]
    },
    {
     "name": "stdout",
     "output_type": "stream",
     "text": [
      "Entered Integer value is 1\n",
      "Entered Integer value is 2\n",
      "Entered Integer value is 3\n",
      "Entered Integer value is 4\n",
      "Entered Integer value is 5\n"
     ]
    }
   ],
   "source": [
    "mylist= list(input('Enter any five integers'))\n",
    "a=True\n",
    "for i in mylist:\n",
    "    if(i!=' '):\n",
    "        if(mylist.count(i) > 1):\n",
    "            mylist.remove(i)\n",
    "            while a==True:\n",
    "                print(i,'is already present.')\n",
    "                num=int(input('Please enter single unique value'))\n",
    "                if(mylist.count(num) > 1):\n",
    "                    pass\n",
    "                else:\n",
    "                    mylist.extend([num])\n",
    "                    a=False\n",
    "\n",
    "print()\n",
    "\n",
    "for i in mylist:\n",
    "    if(i==' '):\n",
    "        pass\n",
    "    else:\n",
    "        print('Entered Integer value is', i)    "
   ]
  },
  {
   "cell_type": "markdown",
   "id": "21c4a157-3b7b-4694-928a-ed84c3057646",
   "metadata": {},
   "source": [
    "## Write a program to accept 2 lists from the user of 5 nos each . Assume each list will have unique nos Now find out how many items in these lists are common"
   ]
  },
  {
   "cell_type": "code",
   "execution_count": 29,
   "id": "8dbe36bb-1df0-4f96-ab82-a8d955e52a84",
   "metadata": {},
   "outputs": [
    {
     "name": "stdin",
     "output_type": "stream",
     "text": [
      "enter five unique integer 0 1 2 34\n",
      "enter five unique integer 1 0 5 6 4\n"
     ]
    },
    {
     "name": "stdout",
     "output_type": "stream",
     "text": [
      "3 values have repeated more than once\n"
     ]
    }
   ],
   "source": [
    "mylst1=list(input('enter five unique integer'))\n",
    "mylst2=list(input('enter five unique integer'))\n",
    "mylst3=mylst1 + mylst2\n",
    "count=0\n",
    "\n",
    "for i in mylst1:\n",
    "    if(i!= ' '):\n",
    "        if (mylst3.count(i)>1):\n",
    "            count=count+1\n",
    "\n",
    "if(count>0):\n",
    "    print('{} values have repeated more than once'.format(count))            \n",
    "else:\n",
    "    print('No value has repeated')"
   ]
  },
  {
   "cell_type": "markdown",
   "id": "a30fa354-aef3-4df0-95f8-4a62478c5110",
   "metadata": {},
   "source": [
    "## Rewrite the previous code so that your code alos displays the items which are common in both the lists"
   ]
  },
  {
   "cell_type": "code",
   "execution_count": 31,
   "id": "4f96a295-45fd-423d-ad40-7d6b48b315cb",
   "metadata": {},
   "outputs": [
    {
     "name": "stdin",
     "output_type": "stream",
     "text": [
      "enter five unique integer 1 2 3 4 5\n",
      "enter five unique integer 1 2 6 5 4\n"
     ]
    },
    {
     "name": "stdout",
     "output_type": "stream",
     "text": [
      "4 values have repeated more than once which are : ['1', '2', '4', '5']\n"
     ]
    }
   ],
   "source": [
    "mylst1=list(input('enter five unique integer'))\n",
    "mylst2=list(input('enter five unique integer'))\n",
    "mylst3=mylst1 + mylst2\n",
    "mylst4 = []\n",
    "count=0\n",
    "\n",
    "for i in mylst1:\n",
    "    if(i!= ' '):\n",
    "        if (mylst3.count(i)>1):\n",
    "            mylst4.append(i)\n",
    "            count=count+1\n",
    "\n",
    "if(count>0):\n",
    "    print('{} values have repeated more than once which are : {}'.format(count,mylst4))          \n",
    "else:\n",
    "    print('No value has repeated')\n",
    "  "
   ]
  },
  {
   "cell_type": "code",
   "execution_count": null,
   "id": "8c43f7cb-2d05-4182-ae32-03768c649b61",
   "metadata": {},
   "outputs": [],
   "source": []
  }
 ],
 "metadata": {
  "kernelspec": {
   "display_name": "Python 3 (ipykernel)",
   "language": "python",
   "name": "python3"
  },
  "language_info": {
   "codemirror_mode": {
    "name": "ipython",
    "version": 3
   },
   "file_extension": ".py",
   "mimetype": "text/x-python",
   "name": "python",
   "nbconvert_exporter": "python",
   "pygments_lexer": "ipython3",
   "version": "3.10.6"
  }
 },
 "nbformat": 4,
 "nbformat_minor": 5
}
