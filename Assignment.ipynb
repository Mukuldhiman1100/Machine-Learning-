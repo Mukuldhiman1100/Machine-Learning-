{
 "cells": [
  {
   "cell_type": "markdown",
   "id": "63286d7d-c5d6-4c96-a5d4-e68d873d1276",
   "metadata": {},
   "source": [
    "## ●\tWAP to accept a character from the user and check whether it is a capital letter or small letter or a digit or some special symbol"
   ]
  },
  {
   "cell_type": "code",
   "execution_count": 17,
   "id": "1a99ce1e-c267-4b23-a3a7-8a64eda80425",
   "metadata": {},
   "outputs": [
    {
     "name": "stdin",
     "output_type": "stream",
     "text": [
      "Enter any character 444\n"
     ]
    },
    {
     "name": "stdout",
     "output_type": "stream",
     "text": [
      "digits\n"
     ]
    }
   ],
   "source": [
    "x=input(\"Enter any character\")\n",
    "if(x.isupper()):\n",
    "    print('Capital letter')\n",
    "elif(x.islower()):\n",
    "    print('Small letter')\n",
    "elif(x.isnumeric()):\n",
    "    print('digits')\n",
    "else:\n",
    "    print('special symbol')\n",
    "         "
   ]
  },
  {
   "cell_type": "markdown",
   "id": "ddfdbc22-a123-45da-80b8-ea9ef44ae73e",
   "metadata": {},
   "source": [
    "## ●\tWAP to accept a year from the user and check whether it is a leap year or not."
   ]
  },
  {
   "cell_type": "code",
   "execution_count": 23,
   "id": "7692832e-743f-4627-bafc-c5032cb6d9b3",
   "metadata": {},
   "outputs": [
    {
     "name": "stdin",
     "output_type": "stream",
     "text": [
      "Enter any Year 4444\n"
     ]
    },
    {
     "name": "stdout",
     "output_type": "stream",
     "text": [
      "4444 is a leap Year\n"
     ]
    }
   ],
   "source": [
    "x=input('Enter any Year')\n",
    "if(x.isnumeric()):\n",
    "    if(int(x)%4==0):\n",
    "        print(x,'is a leap Year')\n",
    "    else:\n",
    "        print(x, 'is not a leap Year')\n",
    "else:\n",
    "    print('Enter numeric value')"
   ]
  },
  {
   "cell_type": "markdown",
   "id": "5deea387-306f-4adc-b73e-39b23915f7e4",
   "metadata": {},
   "source": [
    "## Number guessing game"
   ]
  },
  {
   "cell_type": "code",
   "execution_count": 31,
   "id": "74d4eb9d-3436-44a9-bbbb-5d5b7538c9ef",
   "metadata": {},
   "outputs": [
    {
     "name": "stdin",
     "output_type": "stream",
     "text": [
      "Guess what integer value i have hold for you to escape from this while loop 2\n"
     ]
    },
    {
     "name": "stdout",
     "output_type": "stream",
     "text": [
      "Number is small. Try again\n"
     ]
    },
    {
     "name": "stdin",
     "output_type": "stream",
     "text": [
      "Guess what integer value i have hold for you to escape from this while loop 9\n"
     ]
    },
    {
     "name": "stdout",
     "output_type": "stream",
     "text": [
      "Number is large. Try again\n"
     ]
    },
    {
     "name": "stdin",
     "output_type": "stream",
     "text": [
      "Guess what integer value i have hold for you to escape from this while loop 0\n"
     ]
    },
    {
     "name": "stdout",
     "output_type": "stream",
     "text": [
      "You have found the loop hole to exit the loop\n"
     ]
    }
   ],
   "source": [
    "import random\n",
    "\n",
    "x= random.randint(1,9)\n",
    "\n",
    "while True:\n",
    "    r=input(\"Guess what integer value i have hold for you to escape from this while loop\")\n",
    "    if(r.isnumeric()):\n",
    "        if(int(r)==x):\n",
    "            print('You are free to go')\n",
    "            break\n",
    "        elif(int(r)<=0):\n",
    "            print('You have found the loop hole to exit the loop')\n",
    "            break    \n",
    "        elif(int(r)>x):\n",
    "            print('Number is large. Try again')\n",
    "        elif(int(r)<x):\n",
    "            print('Number is small. Try again')       \n",
    "    else:\n",
    "        print('Enter numeric value')\n",
    "    \n",
    "    "
   ]
  },
  {
   "cell_type": "markdown",
   "id": "0ad4cb12-3251-4eb9-8452-2d154e30136a",
   "metadata": {},
   "source": [
    "## Write a program using a for loop to accept a string from the user and display it vertically but don’t display the vowels in it"
   ]
  },
  {
   "cell_type": "code",
   "execution_count": 4,
   "id": "e5e387c8-1268-4987-af30-b95696e3fe31",
   "metadata": {},
   "outputs": [
    {
     "name": "stdin",
     "output_type": "stream",
     "text": [
      "Enter any string mukul dhiman\n"
     ]
    },
    {
     "name": "stdout",
     "output_type": "stream",
     "text": [
      "m\n",
      "k\n",
      "l\n",
      " \n",
      "d\n",
      "h\n",
      "m\n",
      "n\n"
     ]
    }
   ],
   "source": [
    "x= input(\"Enter any string\")\n",
    "\n",
    "for i in x:\n",
    "    if(i not in ('aeiou')):\n",
    "        print(i)"
   ]
  },
  {
   "cell_type": "markdown",
   "id": "ed3cb8e1-d8f8-4520-b9a6-9dddc596c428",
   "metadata": {},
   "source": [
    "## Write a program to continuously accept integers from the user until the user types 0 and as soon as 0 is entered display sum of all the nos entered before 0"
   ]
  },
  {
   "cell_type": "code",
   "execution_count": 8,
   "id": "4950cd0c-18e5-4349-a4ff-be82676f1427",
   "metadata": {},
   "outputs": [
    {
     "name": "stdin",
     "output_type": "stream",
     "text": [
      "Enter any integer value 1\n",
      "Enter any integer value 2\n",
      "Enter any integer value -1\n",
      "Enter any integer value 0\n"
     ]
    },
    {
     "name": "stdout",
     "output_type": "stream",
     "text": [
      "Sum of total entered number is 3\n"
     ]
    }
   ],
   "source": [
    "z=0\n",
    "while True:\n",
    "    x= int(input('Enter any integer value'))\n",
    "    if(x==0):\n",
    "        print('Sum of total entered number is', z)\n",
    "        break\n",
    "    elif(x<0):\n",
    "        pass\n",
    "    elif(x>0):\n",
    "        z=x+z\n",
    "        "
   ]
  },
  {
   "cell_type": "markdown",
   "id": "37b5ab4f-93a2-4c17-8854-6aba6d361472",
   "metadata": {},
   "source": [
    "## Write a program to accept an integer from the user and display the sum of all the numbers from 1 to that number."
   ]
  },
  {
   "cell_type": "code",
   "execution_count": 17,
   "id": "3e1c7bc0-2bfa-427f-b53e-b5d813bba6ef",
   "metadata": {},
   "outputs": [
    {
     "name": "stdin",
     "output_type": "stream",
     "text": [
      "Enter any integer value 2\n"
     ]
    },
    {
     "name": "stdout",
     "output_type": "stream",
     "text": [
      "Sum of the entered number is 3\n"
     ]
    }
   ],
   "source": [
    "a= range(int(input('Enter any integer value'))+1)\n",
    "z=0\n",
    "for i in a:\n",
    "    z=z+i\n",
    "print('Sum of the entered number is', z)"
   ]
  },
  {
   "cell_type": "markdown",
   "id": "59d8cb59-8f54-4e1a-95fc-367177907d0c",
   "metadata": {},
   "source": [
    "## Print the pattern"
   ]
  },
  {
   "cell_type": "code",
   "execution_count": 25,
   "id": "044a3b00-d2bd-4a56-bd5f-da2dcac02dad",
   "metadata": {},
   "outputs": [
    {
     "name": "stdin",
     "output_type": "stream",
     "text": [
      "Enter any character to print a\n"
     ]
    },
    {
     "name": "stdout",
     "output_type": "stream",
     "text": [
      "aaa\n",
      "aaa\n",
      "aaa\n"
     ]
    }
   ],
   "source": [
    "a= input('Enter any character to print')\n",
    "x=range(3)\n",
    "for i in x:\n",
    "    for j in x:\n",
    "        print(a, end='')\n",
    "    print()    "
   ]
  },
  {
   "cell_type": "markdown",
   "id": "61f115b1-d97f-44e9-abe3-80266dd4d6b4",
   "metadata": {},
   "source": [
    "## Print the Pattern"
   ]
  },
  {
   "cell_type": "code",
   "execution_count": 30,
   "id": "4ec01f34-3f95-47e5-becf-da6722266ad1",
   "metadata": {},
   "outputs": [
    {
     "name": "stdin",
     "output_type": "stream",
     "text": [
      "Enter any character to print 7\n"
     ]
    },
    {
     "name": "stdout",
     "output_type": "stream",
     "text": [
      "7\n",
      "77\n",
      "777\n",
      "7777\n"
     ]
    }
   ],
   "source": [
    "a= input('Enter any character to print')\n",
    "x=range(4)\n",
    "for i in x:\n",
    "    for j in range(i+1):\n",
    "        print(a, end='')\n",
    "    print()  "
   ]
  },
  {
   "cell_type": "markdown",
   "id": "eb0ca13e-6651-4026-9d12-953da58b505b",
   "metadata": {},
   "source": [
    "## Print the PAttern"
   ]
  },
  {
   "cell_type": "code",
   "execution_count": 36,
   "id": "b6ba6e38-7344-44d5-a27e-7463d6241c31",
   "metadata": {},
   "outputs": [
    {
     "name": "stdin",
     "output_type": "stream",
     "text": [
      "Enter any character to print a\n"
     ]
    },
    {
     "name": "stdout",
     "output_type": "stream",
     "text": [
      "aaaa\n",
      "aaa\n",
      "aa\n",
      "a\n"
     ]
    }
   ],
   "source": [
    "a= input('Enter any character to print')\n",
    "x=range(4,0,-1)\n",
    "for i in x:\n",
    "    for j in range(i):\n",
    "        print(a, end='')\n",
    "    print()  "
   ]
  },
  {
   "cell_type": "markdown",
   "id": "5dcf22c3-eebe-4f9a-a210-3a5ad23e5189",
   "metadata": {},
   "source": [
    "## Write a program to accept an integer from the user and display all the numbers from 1 to that number. Repeat the process until the user enters 0."
   ]
  },
  {
   "cell_type": "code",
   "execution_count": 40,
   "id": "2e4a95f7-7d91-411d-bfc2-342fdfdbc7de",
   "metadata": {},
   "outputs": [
    {
     "name": "stdin",
     "output_type": "stream",
     "text": [
      "Enter any integer value 5\n"
     ]
    },
    {
     "name": "stdout",
     "output_type": "stream",
     "text": [
      "[1, 2, 3, 4, 5]\n"
     ]
    },
    {
     "name": "stdin",
     "output_type": "stream",
     "text": [
      "Enter any integer value to continue or enter 0 to exit 3\n"
     ]
    },
    {
     "name": "stdout",
     "output_type": "stream",
     "text": [
      "[1, 2, 3]\n"
     ]
    },
    {
     "name": "stdin",
     "output_type": "stream",
     "text": [
      "Enter any integer value to continue or enter 0 to exit 8\n"
     ]
    },
    {
     "name": "stdout",
     "output_type": "stream",
     "text": [
      "[1, 2, 3, 4, 5, 6, 7, 8]\n"
     ]
    },
    {
     "name": "stdin",
     "output_type": "stream",
     "text": [
      "Enter any integer value to continue or enter 0 to exit 0\n"
     ]
    }
   ],
   "source": [
    "a= int(input('Enter any integer value'))\n",
    "while True:\n",
    "    if(a==-2):\n",
    "        a= int(input('Enter any integer value to continue or enter 0 to exit'))\n",
    "        if(a==0):\n",
    "            break\n",
    "        r= range(1,a+1)\n",
    "        print(list(r))\n",
    "        a=-2\n",
    "    elif(a>0):    \n",
    "        r= range(1,a+1)\n",
    "        print(list(r))\n",
    "        a=-2\n",
    "    elif(a==0):\n",
    "        break"
   ]
  },
  {
   "cell_type": "code",
   "execution_count": null,
   "id": "ffaef022-90af-439c-bd55-7e819e651f4d",
   "metadata": {},
   "outputs": [],
   "source": []
  }
 ],
 "metadata": {
  "kernelspec": {
   "display_name": "Python 3 (ipykernel)",
   "language": "python",
   "name": "python3"
  },
  "language_info": {
   "codemirror_mode": {
    "name": "ipython",
    "version": 3
   },
   "file_extension": ".py",
   "mimetype": "text/x-python",
   "name": "python",
   "nbconvert_exporter": "python",
   "pygments_lexer": "ipython3",
   "version": "3.10.6"
  }
 },
 "nbformat": 4,
 "nbformat_minor": 5
}
